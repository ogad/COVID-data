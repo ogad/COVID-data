{
 "cells": [
  {
   "cell_type": "markdown",
   "metadata": {
    "colab_type": "text",
    "id": "zfGr_0hX4SDo"
   },
   "source": [
    "# Coronavirus Data Analysis"
   ]
  },
  {
   "cell_type": "code",
   "execution_count": null,
   "metadata": {
    "colab": {},
    "colab_type": "code",
    "id": "1CVXrQwn-RYC"
   },
   "outputs": [],
   "source": [
    "%matplotlib notebook\n",
    "\n",
    "# Module to send http requests\n",
    "from requests import get\n",
    "\n",
    "import matplotlib.pyplot as plt\n",
    "import pandas as pd\n",
    "from random import sample\n",
    "from datetime import date\n",
    "import statistics as stats"
   ]
  },
  {
   "cell_type": "code",
   "execution_count": null,
   "metadata": {},
   "outputs": [],
   "source": [
    "# Read table of population estimates (ONS Apr 2020)\n",
    "df_populations = pd.read_csv('populationestimates2020.csv', header=1)\n",
    "df_populations['Population'] = df_populations['All ages'].replace(',','',regex=True).fillna(0).astype(int)\n",
    "df_populations.drop(columns='All ages', inplace=True)\n",
    "\n",
    "# Read the list of upper tier local authorities and make a dataframe of their populations\n",
    "df_utlas = pd.read_csv('utlas.csv', names=[\"Name\"])\n",
    "df_utla_populations = df_utlas.merge(df_populations, how='left', on=\"Name\")\n",
    "df_utla_populations.rename(columns = {\"Geography1\":\"Geography\"})"
   ]
  },
  {
   "cell_type": "code",
   "execution_count": null,
   "metadata": {
    "scrolled": true
   },
   "outputs": [],
   "source": [
    "def rolling_average(values, over):\n",
    "    \"\"\"Perform a rolling average on the set of values, returning a list of the same length as values.\"\"\"\n",
    "    result = []\n",
    "    for i in range(over-1):\n",
    "        result.append(None)\n",
    "    for i in range(len(values)-over+1):\n",
    "        result.append(stats.mean(values[i:i+over]))\n",
    "    return result"
   ]
  },
  {
   "cell_type": "code",
   "execution_count": null,
   "metadata": {},
   "outputs": [],
   "source": [
    "def get_response(url):\n",
    "    \"\"\"Perform a http GET request at the given url, returning the response json.\"\"\"\n",
    "    response = get(endpoint, timeout=10)\n",
    "    if response.status_code >= 400:\n",
    "      raise RuntimeError(f'Request failed: { response.text }')\n",
    "    return response.json()"
   ]
  },
  {
   "cell_type": "code",
   "execution_count": null,
   "metadata": {},
   "outputs": [],
   "source": [
    "def join_on_date(dfs):\n",
    "    \"\"\"Joins a dictionary of dataframes, where the key is used as the suffix when producting a larger dataframe joining the two.\"\"\"\n",
    "    result = pd.DataFrame()\n",
    "    for suffix, df in dfs.items():\n",
    "        if result.empty:\n",
    "            result = df.rename(columns={f\"date{suffix.replace(' ','')}\":'date'})\n",
    "        else:\n",
    "            result = result.merge(df, left_on='date', right_on=f\"date{suffix.replace(' ','')}\")\n",
    "            result['date'].fillna(result[f\"date{suffix.replace(' ','')}\"], inplace=True)\n",
    "            del result[f\"date{suffix.replace(' ','')}\"]\n",
    "    result['date'] = result['date'].map(date.fromisoformat)\n",
    "    return result"
   ]
  },
  {
   "cell_type": "code",
   "execution_count": null,
   "metadata": {
    "colab": {
     "base_uri": "https://localhost:8080/",
     "height": 85
    },
    "colab_type": "code",
    "id": "XrNPk09O4N4b",
    "outputId": "b9489018-4d07-453e-b331-ceabe86a7c67",
    "scrolled": true
   },
   "outputs": [],
   "source": [
    "nations = ['England', 'Scotland', 'Wales', 'Northern Ireland']\n",
    "\n",
    "nation_dfs = {}\n",
    "for nation in nations:\n",
    "    print(f'processing {nation}')\n",
    "    endpoint = (\n",
    "      'https://api.coronavirus.data.gov.uk/v1/data?'\n",
    "      f'filters=areaType=nation;areaName={nation}&'\n",
    "      'structure={\"date\":\"date\",\"newCases\":\"newCasesByPublishDate\", \"newDeaths\":\"newDeaths28DaysByPublishDate\"}'\n",
    "    )\n",
    "    data = get_response(endpoint)\n",
    "    nation_dfs[nation] = pd.DataFrame(data['data'])\\\n",
    "                                .sort_values('date')\\\n",
    "                                .reset_index(drop=True)\\\n",
    "                                .add_suffix(nation.replace(' ',''))\n"
   ]
  },
  {
   "cell_type": "code",
   "execution_count": null,
   "metadata": {
    "scrolled": true
   },
   "outputs": [],
   "source": [
    "joined_data_nations = join_on_date(nation_dfs)"
   ]
  },
  {
   "cell_type": "code",
   "execution_count": null,
   "metadata": {},
   "outputs": [],
   "source": [
    "# joined_data_nations.to_csv('data_backup_nations.csv')"
   ]
  },
  {
   "cell_type": "code",
   "execution_count": null,
   "metadata": {
    "scrolled": true
   },
   "outputs": [],
   "source": [
    "for nation in nations:\n",
    "    population_in_millions = int(df_populations[df_populations['Name']==nation.upper()]['Population']) / 10**6\n",
    "    new_cases = joined_data_nations[f\"newCases{nation.replace(' ','')}\"]\n",
    "    new_cases_per_million = joined_data_nations[f\"newCases{nation.replace(' ','')}\"] / population_in_millions\n",
    "    new_deaths_per_million = joined_data_nations[f\"newDeaths{nation.replace(' ','')}\"] / population_in_millions\n",
    "    rolling_new_cases_per_million = rolling_average(new_cases_per_million,7)\n",
    "    rolling_new_deaths_per_million = rolling_average(new_deaths_per_million,7)\n",
    "    \n",
    "    joined_data_nations[f\"newCasesPerMillion{nation.replace(' ','')}\"] = new_cases_per_million\n",
    "    joined_data_nations[f\"newDeathsPerMillion{nation.replace(' ','')}\"] = new_deaths_per_million\n",
    "    joined_data_nations[f\"newCasesPerMillion7Day{nation.replace(' ','')}\"] = rolling_new_cases_per_million\n",
    "    joined_data_nations[f\"newDeathsPerMillion7Day{nation.replace(' ','')}\"] = rolling_new_deaths_per_million\n",
    "\n",
    "nation_new_cases_columns = [f\"newCasesPerMillion7Day{nation.replace(' ','')}\" for nation in nations]\n",
    "nation_new_deaths_columns =  [f\"newDeathsPerMillion7Day{nation.replace(' ','')}\" for nation in nations]\n",
    "\n",
    "joined_data_nations.plot('date', nation_new_cases_columns)\n",
    "plt.legend(labels=nations)\n",
    "plt.title('New Cases per Million Population (7 day rolling)')\n",
    "plt.xticks(rotation=30, ha='right')\n",
    "\n",
    "joined_data_nations.plot('date', nation_new_deaths_columns)\n",
    "plt.legend(labels=nations)\n",
    "plt.title('New Deaths per Million Population (7 day rolling)')\n",
    "plt.xticks(rotation=30, ha='right')"
   ]
  },
  {
   "cell_type": "code",
   "execution_count": null,
   "metadata": {},
   "outputs": [],
   "source": [
    "# To plot different Upper tier local authorities, simply add their name to this list.\n",
    "# utlas = ['Cheshire West and Chester','Leicester','Northumberland','North Yorkshire', 'Wirral', 'Oxfordshire', 'Cumbria']\n",
    "# utlas = ['Bolton', 'Bradford', 'Blackburn with Darwen']\n",
    "utlas = list(df_utlas['Name'])\n",
    "\n",
    "\n",
    "utla_dfs = {}\n",
    "for utla in utlas:\n",
    "    try:\n",
    "        print(f'processing {utla}')\n",
    "        endpoint = (\n",
    "          'https://api.coronavirus.data.gov.uk/v1/data?'\n",
    "          f'filters=areaType=utla;areaName={utla}&'\n",
    "          'structure={\"date\":\"date\",\"newCases\":\"newCasesBySpecimenDate\"}'\n",
    "        )\n",
    "        data = get_response(endpoint)\n",
    "        utla_dfs[utla] = pd.DataFrame(data['data'])\\\n",
    "                                    .sort_values('date')\\\n",
    "                                    .reset_index(drop=True)\\\n",
    "                                    .add_suffix(utla.replace(' ',''))\n",
    "    except:\n",
    "        utlas.remove(utla)\n",
    "        print(\"Failed, moving on.\")"
   ]
  },
  {
   "cell_type": "code",
   "execution_count": null,
   "metadata": {},
   "outputs": [],
   "source": [
    "joined_data_utlas = join_on_date(utla_dfs)\n",
    "# Remove the last 2 days to mitigate reporting delay using Specimen date\n",
    "joined_data_utlas.drop(index=[len(joined_data_utlas)-1, len(joined_data_utlas)-2], inplace=True)"
   ]
  },
  {
   "cell_type": "code",
   "execution_count": null,
   "metadata": {},
   "outputs": [],
   "source": [
    "# joined_data_utlas.to_csv('data_backup_utlas.csv')"
   ]
  },
  {
   "cell_type": "code",
   "execution_count": null,
   "metadata": {},
   "outputs": [],
   "source": [
    "for utla in utlas:\n",
    "    try:\n",
    "        population_in_millions = int(df_utla_populations[df_utla_populations['Name']==utla]['Population']) / 10**6\n",
    "        new_cases_per_million = joined_data_utlas[f\"newCases{utla.replace(' ','')}\"]/population_in_millions\n",
    "        rolling_new_cases_per_million = rolling_average(new_cases_per_million,7)\n",
    "        joined_data_utlas[f\"newCasesPerMillion{utla.replace(' ','')}\"] = new_cases_per_million\n",
    "        joined_data_utlas[f\"newCasesPerMillion7Day{utla.replace(' ','')}\"] = rolling_new_cases_per_million\n",
    "    except:\n",
    "        print(f'Failed processing {utla}, removing it.')\n",
    "        utlas.remove(utla)"
   ]
  },
  {
   "cell_type": "code",
   "execution_count": null,
   "metadata": {},
   "outputs": [],
   "source": [
    "# utlas_new_cases_columns = [f\"newCasesPerMillion7Day{utla.replace(' ','')}\" for utla in utlas]\n",
    "utla_sample = sample(utlas,5)\n",
    "utlas_new_cases_columns = [f\"newCasesPerMillion7Day{utla.replace(' ','')}\" for utla in utla_sample]\n",
    "\n",
    "joined_data_utlas.plot('date', utlas_new_cases_columns)\n",
    "plt.legend(labels=utla_sample)\n",
    "plt.title('New Cases per Million Population (7 day rolling)')\n",
    "plt.xticks(rotation=30, ha='right')"
   ]
  },
  {
   "cell_type": "code",
   "execution_count": null,
   "metadata": {},
   "outputs": [],
   "source": []
  }
 ],
 "metadata": {
  "colab": {
   "name": "Coronavirus Data",
   "provenance": []
  },
  "kernelspec": {
   "display_name": "Python 3",
   "language": "python",
   "name": "python3"
  },
  "language_info": {
   "codemirror_mode": {
    "name": "ipython",
    "version": 3
   },
   "file_extension": ".py",
   "mimetype": "text/x-python",
   "name": "python",
   "nbconvert_exporter": "python",
   "pygments_lexer": "ipython3",
   "version": "3.8.3"
  }
 },
 "nbformat": 4,
 "nbformat_minor": 1
}
