{
 "cells": [
  {
   "cell_type": "markdown",
   "metadata": {
    "colab_type": "text",
    "id": "zfGr_0hX4SDo"
   },
   "source": [
    "# Coronavirus Data Analysis"
   ]
  },
  {
   "cell_type": "code",
   "execution_count": 1,
   "metadata": {
    "colab": {},
    "colab_type": "code",
    "id": "1CVXrQwn-RYC"
   },
   "outputs": [],
   "source": [
    "%matplotlib notebook\n",
    "\n",
    "# Module to send http requests\n",
    "from requests import get\n",
    "\n",
    "import matplotlib.pyplot as plt\n",
    "import pandas as pd\n",
    "\n",
    "from datetime import date\n",
    "import statistics as stats"
   ]
  },
  {
   "cell_type": "code",
   "execution_count": 2,
   "metadata": {},
   "outputs": [],
   "source": [
    "df_utlas = pd.read_csv('utlas.csv', names=[\"Name\"])\n",
    "df_populations = pd.read_csv('populationestimates2020.csv', header=1)\n",
    "df_utlas = df_utlas.merge(df_populations, how='left', on=\"Name\")"
   ]
  },
  {
   "cell_type": "code",
   "execution_count": 3,
   "metadata": {
    "scrolled": true
   },
   "outputs": [],
   "source": [
    "def rolling_average(values, over):\n",
    "    result = []\n",
    "    for i in range(over-1):\n",
    "        result.append(None)\n",
    "    for i in range(len(values)-over+1):\n",
    "        result.append(stats.mean(values[i:i+over]))\n",
    "    return result\n",
    "\n",
    "def get_data(url):\n",
    "    response = get(endpoint, timeout=10)\n",
    "    if response.status_code >= 400:\n",
    "      raise RuntimeError(f'Request failed: { response.text }')\n",
    "    return response.json()"
   ]
  },
  {
   "cell_type": "code",
   "execution_count": 4,
   "metadata": {},
   "outputs": [],
   "source": [
    "def join_on_date(dfs):\n",
    "    # Takes a dictionary of dataframes\n",
    "    result = pd.DataFrame()\n",
    "    for suffix, df in dfs.items():\n",
    "        if result.empty:\n",
    "            result = df.rename(columns={f\"date{suffix.replace(' ','')}\":'date'})\n",
    "        else:\n",
    "            result = result.merge(df, left_on='date', right_on=f\"date{suffix.replace(' ','')}\")\n",
    "            result['date'].fillna(result[f\"date{suffix.replace(' ','')}\"], inplace=True)\n",
    "            del result[f\"date{suffix.replace(' ','')}\"]\n",
    "    result['date'] = result['date'].map(date.fromisoformat)\n",
    "    return result"
   ]
  },
  {
   "cell_type": "code",
   "execution_count": 5,
   "metadata": {
    "colab": {
     "base_uri": "https://localhost:8080/",
     "height": 85
    },
    "colab_type": "code",
    "id": "XrNPk09O4N4b",
    "outputId": "b9489018-4d07-453e-b331-ceabe86a7c67",
    "scrolled": true
   },
   "outputs": [
    {
     "name": "stdout",
     "output_type": "stream",
     "text": [
      "processing England\n",
      "processing Scotland\n"
     ]
    },
    {
     "ename": "RuntimeError",
     "evalue": "Request failed: {\"response\":\"An internal error occurred whilst processing your request, please try again. If the problem persists, please report as an issue and include your request.\",\"status_code\":500,\"status\":\"Internal Server Error\"}",
     "output_type": "error",
     "traceback": [
      "\u001b[0;31m---------------------------------------------------------------------------\u001b[0m",
      "\u001b[0;31mRuntimeError\u001b[0m                              Traceback (most recent call last)",
      "\u001b[0;32m<ipython-input-5-16103832d095>\u001b[0m in \u001b[0;36m<module>\u001b[0;34m\u001b[0m\n\u001b[1;32m     14\u001b[0m       \u001b[0;34m'structure={\"date\":\"date\",\"newCases\":\"newCasesByPublishDate\", \"newDeaths\":\"newDeaths28DaysByPublishDate\"}'\u001b[0m\u001b[0;34m\u001b[0m\u001b[0;34m\u001b[0m\u001b[0m\n\u001b[1;32m     15\u001b[0m     )\n\u001b[0;32m---> 16\u001b[0;31m     \u001b[0mdata\u001b[0m \u001b[0;34m=\u001b[0m \u001b[0mget_data\u001b[0m\u001b[0;34m(\u001b[0m\u001b[0mendpoint\u001b[0m\u001b[0;34m)\u001b[0m\u001b[0;34m\u001b[0m\u001b[0;34m\u001b[0m\u001b[0m\n\u001b[0m\u001b[1;32m     17\u001b[0m     \u001b[0mnation_dfs\u001b[0m\u001b[0;34m[\u001b[0m\u001b[0mnation\u001b[0m\u001b[0;34m]\u001b[0m \u001b[0;34m=\u001b[0m \u001b[0mpd\u001b[0m\u001b[0;34m.\u001b[0m\u001b[0mDataFrame\u001b[0m\u001b[0;34m(\u001b[0m\u001b[0mdata\u001b[0m\u001b[0;34m[\u001b[0m\u001b[0;34m'data'\u001b[0m\u001b[0;34m]\u001b[0m\u001b[0;34m)\u001b[0m\u001b[0;31m\\\u001b[0m\u001b[0;34m\u001b[0m\u001b[0;34m\u001b[0m\u001b[0m\n\u001b[1;32m     18\u001b[0m                                 \u001b[0;34m.\u001b[0m\u001b[0msort_values\u001b[0m\u001b[0;34m(\u001b[0m\u001b[0;34m'date'\u001b[0m\u001b[0;34m)\u001b[0m\u001b[0;31m\\\u001b[0m\u001b[0;34m\u001b[0m\u001b[0;34m\u001b[0m\u001b[0m\n",
      "\u001b[0;32m<ipython-input-3-940df4becf08>\u001b[0m in \u001b[0;36mget_data\u001b[0;34m(url)\u001b[0m\n\u001b[1;32m     10\u001b[0m     \u001b[0mresponse\u001b[0m \u001b[0;34m=\u001b[0m \u001b[0mget\u001b[0m\u001b[0;34m(\u001b[0m\u001b[0mendpoint\u001b[0m\u001b[0;34m,\u001b[0m \u001b[0mtimeout\u001b[0m\u001b[0;34m=\u001b[0m\u001b[0;36m10\u001b[0m\u001b[0;34m)\u001b[0m\u001b[0;34m\u001b[0m\u001b[0;34m\u001b[0m\u001b[0m\n\u001b[1;32m     11\u001b[0m     \u001b[0;32mif\u001b[0m \u001b[0mresponse\u001b[0m\u001b[0;34m.\u001b[0m\u001b[0mstatus_code\u001b[0m \u001b[0;34m>=\u001b[0m \u001b[0;36m400\u001b[0m\u001b[0;34m:\u001b[0m\u001b[0;34m\u001b[0m\u001b[0;34m\u001b[0m\u001b[0m\n\u001b[0;32m---> 12\u001b[0;31m       \u001b[0;32mraise\u001b[0m \u001b[0mRuntimeError\u001b[0m\u001b[0;34m(\u001b[0m\u001b[0;34mf'Request failed: { response.text }'\u001b[0m\u001b[0;34m)\u001b[0m\u001b[0;34m\u001b[0m\u001b[0;34m\u001b[0m\u001b[0m\n\u001b[0m\u001b[1;32m     13\u001b[0m     \u001b[0;32mreturn\u001b[0m \u001b[0mresponse\u001b[0m\u001b[0;34m.\u001b[0m\u001b[0mjson\u001b[0m\u001b[0;34m(\u001b[0m\u001b[0;34m)\u001b[0m\u001b[0;34m\u001b[0m\u001b[0;34m\u001b[0m\u001b[0m\n",
      "\u001b[0;31mRuntimeError\u001b[0m: Request failed: {\"response\":\"An internal error occurred whilst processing your request, please try again. If the problem persists, please report as an issue and include your request.\",\"status_code\":500,\"status\":\"Internal Server Error\"}"
     ]
    }
   ],
   "source": [
    "nations = ['England', 'Scotland', 'Wales', 'Northern Ireland']\n",
    "populations = {'England':55.268E6, \n",
    "               'Scotland': 5.405E6, \n",
    "               'Wales': 3.113E6, \n",
    "               'Northern Ireland': 1.862E6}\n",
    "\n",
    "\n",
    "nation_dfs = {}\n",
    "for nation in nations:\n",
    "    print(f'processing {nation}')\n",
    "    endpoint = (\n",
    "      'https://api.coronavirus.data.gov.uk/v1/data?'\n",
    "      f'filters=areaType=nation;areaName={nation}&'\n",
    "      'structure={\"date\":\"date\",\"newCases\":\"newCasesByPublishDate\", \"newDeaths\":\"newDeaths28DaysByPublishDate\"}'\n",
    "    )\n",
    "    data = get_data(endpoint)\n",
    "    nation_dfs[nation] = pd.DataFrame(data['data'])\\\n",
    "                                .sort_values('date')\\\n",
    "                                .reset_index(drop=True)\\\n",
    "                                .add_suffix(nation.replace(' ',''))\n"
   ]
  },
  {
   "cell_type": "code",
   "execution_count": null,
   "metadata": {
    "scrolled": true
   },
   "outputs": [],
   "source": [
    "joined_data_nations = join_on_date(nation_dfs)"
   ]
  },
  {
   "cell_type": "code",
   "execution_count": null,
   "metadata": {},
   "outputs": [],
   "source": [
    "joined_data_nations.to_csv('data_backup.csv')"
   ]
  },
  {
   "cell_type": "code",
   "execution_count": null,
   "metadata": {},
   "outputs": [],
   "source": [
    "for nation in nations:\n",
    "    joined_data_nations[f\"newCasesPerMillion{nation.replace(' ','')}\"] = joined_data_nations[f\"newCases{nation.replace(' ','')}\"]/(populations[nation]/10**6)\n",
    "    joined_data_nations[f\"newDeathsPerMillion{nation.replace(' ','')}\"] = joined_data_nations[f\"newDeaths{nation.replace(' ','')}\"]/(populations[nation]/10**6)\n",
    "    joined_data_nations[f\"newCasesPerMillion7Day{nation.replace(' ','')}\"] = rolling_average(joined_data_nations[f\"newCasesPerMillion{nation.replace(' ','')}\"],7)\n",
    "    joined_data_nations[f\"newDeathsPerMillion7Day{nation.replace(' ','')}\"] = rolling_average(joined_data_nations[f\"newDeathsPerMillion{nation.replace(' ','')}\"],7)\n",
    "\n",
    "newCasesList = [f\"newCasesPerMillion7Day{nation.replace(' ','')}\" for nation in nations]\n",
    "newDeathsList =  [f\"newDeathsPerMillion7Day{nation.replace(' ','')}\" for nation in nations]\n",
    "\n",
    "joined_data_nations.plot('date', newCasesList)\n",
    "plt.legend(labels=nations)\n",
    "joined_data_nations.plot('date', newDeathsList)\n",
    "plt.legend(labels=nations)"
   ]
  },
  {
   "cell_type": "code",
   "execution_count": null,
   "metadata": {},
   "outputs": [],
   "source": [
    "utlas = ['Cheshire West and Chester','Leicester','Northumberland','North Yorkshire', 'Wirral', 'Oxfordshire', 'Cumbria']\n",
    "populations = {'Cheshire West and Chester': 343071,\n",
    "               'Leicester': 354224,\n",
    "               'Northumberland': 322434,\n",
    "               'North Yorkshire': 618054,\n",
    "               'Wirral': 324011,\n",
    "               'Oxfordshire': 691667,\n",
    "               'Cumbria':496200}\n",
    "\n",
    "mini_df_utlas = df_utlas[utlas]\n",
    "\n",
    "\n",
    "utla_dfs = {}\n",
    "for utla in utlas:\n",
    "    print(f'processing {utla}')\n",
    "    endpoint = (\n",
    "      'https://api.coronavirus.data.gov.uk/v1/data?'\n",
    "      f'filters=areaType=utla;areaName={utla}&'\n",
    "      'structure={\"date\":\"date\",\"newCases\":\"newCasesBySpecimenDate\", \"newDeaths\":\"newDeaths28DaysByDeathDate\"}'\n",
    "    )\n",
    "    data = get_data(endpoint)\n",
    "    utla_dfs[utla] = pd.DataFrame(data['data'])\\\n",
    "                                .sort_values('date')\\\n",
    "                                .reset_index(drop=True)\\\n",
    "                                .add_suffix(utla.replace(' ',''))"
   ]
  },
  {
   "cell_type": "code",
   "execution_count": null,
   "metadata": {},
   "outputs": [],
   "source": [
    "joined_data_utlas = join_on_date(utla_dfs)\n",
    "joined_data_utlas.tail()"
   ]
  },
  {
   "cell_type": "code",
   "execution_count": null,
   "metadata": {},
   "outputs": [],
   "source": [
    "for utla in utlas:\n",
    "    joined_data_utlas[f\"newCasesPerMillion{utla.replace(' ','')}\"] = joined_data_utlas[f\"newCases{utla.replace(' ','')}\"]/(populations[utla]/10**6)\n",
    "    joined_data_utlas[f\"newCasesPerMillion7Day{utla.replace(' ','')}\"] = rolling_average(joined_data_utlas[f\"newCasesPerMillion{utla.replace(' ','')}\"],7)\n",
    "\n",
    "newCasesList = [f\"newCasesPerMillion7Day{utla.replace(' ','')}\" for utla in utlas]\n",
    "\n",
    "joined_data_utlas.plot('date', newCasesList)\n",
    "plt.legend(labels=utlas)\n",
    "plt.title('New Cases per Million Population (7 day rolling)')"
   ]
  },
  {
   "cell_type": "code",
   "execution_count": null,
   "metadata": {},
   "outputs": [],
   "source": []
  }
 ],
 "metadata": {
  "colab": {
   "name": "Coronavirus Data",
   "provenance": []
  },
  "kernelspec": {
   "display_name": "Python 3",
   "language": "python",
   "name": "python3"
  },
  "language_info": {
   "codemirror_mode": {
    "name": "ipython",
    "version": 3
   },
   "file_extension": ".py",
   "mimetype": "text/x-python",
   "name": "python",
   "nbconvert_exporter": "python",
   "pygments_lexer": "ipython3",
   "version": "3.8.3"
  }
 },
 "nbformat": 4,
 "nbformat_minor": 1
}
